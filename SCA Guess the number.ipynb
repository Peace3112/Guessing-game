{
 "cells": [
  {
   "cell_type": "code",
   "execution_count": 1,
   "metadata": {},
   "outputs": [],
   "source": [
    "#This is a number guessing game.\n",
    "# You are to guess a number between 0 and 20.\n",
    "# You only have 10 attempts to guess right, else you lose.\n",
    "# The code will tell you if the number you guessed is too high or too low or if you guessed right.\n",
    "# You can play again as many times as you want"
   ]
  },
  {
   "cell_type": "code",
   "execution_count": 2,
   "metadata": {},
   "outputs": [],
   "source": [
    "import numpy as np\n",
    "import pandas as pd\n",
    "import sys"
   ]
  },
  {
   "cell_type": "code",
   "execution_count": 3,
   "metadata": {},
   "outputs": [],
   "source": [
    "def main():\n",
    "    print('\\nWelcome to the guessing game')\n",
    "    print('\\nYou only have 10 chances to guess right. Good luck!')\n",
    "    \n",
    "    number_guess()\n",
    "    "
   ]
  },
  {
   "cell_type": "code",
   "execution_count": 4,
   "metadata": {},
   "outputs": [],
   "source": [
    "def switch_game():\n",
    "    global switch\n",
    "    valid_responses=['yes','no']\n",
    "    try:\n",
    "        switch=input('Do you want to play again?\\n')\n",
    "        switch=switch.lower()\n",
    "        \n",
    "        if switch =='yes':\n",
    "            main()\n",
    "             \n",
    "        elif switch=='no':\n",
    "            print('Goodbye!')\n",
    "            sys.exit()\n",
    "                       \n",
    "        else:\n",
    "            print('Invalid Response. Please enter Yes or No.\\n')\n",
    "            switch_game()\n",
    "                \n",
    "    except ValueError:\n",
    "        print('Invalid Response. Please enter Yes or No.\\n')\n",
    "        switch_game()\n",
    "   \n",
    "    "
   ]
  },
  {
   "cell_type": "code",
   "execution_count": 5,
   "metadata": {},
   "outputs": [],
   "source": [
    "def number_guess():\n",
    "    global rand_no\n",
    "    global user_no\n",
    "    rand_no=np.random.randint(0,20)\n",
    "    #print('Random number is {}' .format (rand_no))\n",
    "    try:\n",
    "        user_no= input('\\nPlease guess a number between 0 and 20: \\n')\n",
    "        user_no= int(user_no)\n",
    "        if user_no>20:\n",
    "            print('Invalid Input. Guess a number between 0 and 20.\\n Try again')\n",
    "            number_guess()\n",
    "        if rand_no>user_no:\n",
    "            print('The number you guessed is too low')\n",
    "            no_of_attempts()\n",
    "        elif rand_no<user_no:\n",
    "            print('The number you guessed is too high')\n",
    "            no_of_attempts()\n",
    "        else:\n",
    "            print('Yaay!, you guessed right :-)')\n",
    "            switch_game()\n",
    "            \n",
    "    except ValueError:\n",
    "        print('Invalid input. Please enter an integer number')\n",
    "        number_guess()\n",
    "    "
   ]
  },
  {
   "cell_type": "code",
   "execution_count": 7,
   "metadata": {},
   "outputs": [],
   "source": [
    "\n",
    "def no_of_attempts():\n",
    "    for i in range(10):\n",
    "        number_guess()\n",
    "       \n",
    "    print('You cannot guess anymore. You lose :(')\n",
    "    switch_game()\n",
    "    "
   ]
  },
  {
   "cell_type": "code",
   "execution_count": null,
   "metadata": {},
   "outputs": [
    {
     "name": "stdout",
     "output_type": "stream",
     "text": [
      "\n",
      "Welcome to the guessing game\n",
      "\n",
      "You only have 10 chances to guess right. Good luck!\n",
      "\n",
      "Please guess a number between 0 and 20: \n",
      "2\n",
      "The number you guessed is too low\n",
      "\n",
      "Please guess a number between 0 and 20: \n",
      "2\n",
      "The number you guessed is too low\n",
      "\n",
      "Please guess a number between 0 and 20: \n",
      "2\n",
      "The number you guessed is too high\n",
      "\n",
      "Please guess a number between 0 and 20: \n",
      "1\n",
      "The number you guessed is too low\n",
      "\n",
      "Please guess a number between 0 and 20: \n",
      "2\n",
      "The number you guessed is too low\n",
      "\n",
      "Please guess a number between 0 and 20: \n",
      "3\n",
      "The number you guessed is too low\n",
      "\n",
      "Please guess a number between 0 and 20: \n",
      "2\n",
      "The number you guessed is too low\n",
      "\n",
      "Please guess a number between 0 and 20: \n",
      "1\n",
      "The number you guessed is too low\n"
     ]
    }
   ],
   "source": [
    "main()"
   ]
  },
  {
   "cell_type": "code",
   "execution_count": null,
   "metadata": {},
   "outputs": [],
   "source": []
  }
 ],
 "metadata": {
  "kernelspec": {
   "display_name": "Python 3",
   "language": "python",
   "name": "python3"
  },
  "language_info": {
   "codemirror_mode": {
    "name": "ipython",
    "version": 3
   },
   "file_extension": ".py",
   "mimetype": "text/x-python",
   "name": "python",
   "nbconvert_exporter": "python",
   "pygments_lexer": "ipython3",
   "version": "3.7.6"
  }
 },
 "nbformat": 4,
 "nbformat_minor": 4
}
